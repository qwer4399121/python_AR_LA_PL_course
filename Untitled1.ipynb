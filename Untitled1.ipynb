{
 "cells": [
  {
   "cell_type": "code",
   "execution_count": 3,
   "id": "f3ec8d3c-a04a-4f70-8d6b-491ea581fa2d",
   "metadata": {},
   "outputs": [
    {
     "name": "stdout",
     "output_type": "stream",
     "text": [
      "Hello world!\n",
      "____________________\n",
      "国服第一狮子狗是贴条君！\n",
      "中国EDG牛逼\n"
     ]
    }
   ],
   "source": [
    "print(\"Hello world!\")\n",
    "print(\"_\"*20)\n",
    "print(\"国服第一狮子狗是贴条君！\")\n",
    "print(\"中国EDG牛逼\")"
   ]
  },
  {
   "cell_type": "code",
   "execution_count": 4,
   "id": "36a73dce-e207-4eca-8982-552dc1dc8df1",
   "metadata": {},
   "outputs": [
    {
     "name": "stdout",
     "output_type": "stream",
     "text": [
      "不加： 7\n",
      "不减： 3\n",
      "不乘： 12\n",
      "不除： 2.0\n",
      "整除： 3\n",
      "余数： 1\n",
      "幂： 64\n"
     ]
    }
   ],
   "source": [
    "print(\"不加：\",4+3) #打印简单的运算\n",
    "print(\"不减：\",3-0)\n",
    "print(\"不乘：\",4*3)\n",
    "print(\"不除：\", 6/3)\n",
    "print(\"整除：\", 7//2)\n",
    "print(\"余数：\", 9%2)\n",
    "print(\"幂：\",4**3)"
   ]
  },
  {
   "cell_type": "code",
   "execution_count": 7,
   "id": "bf80bc60-163a-4e82-8de8-4f2ffe76b41d",
   "metadata": {},
   "outputs": [
    {
     "name": "stdout",
     "output_type": "stream",
     "text": [
      "y= 11.0\n",
      "y=11.00\n",
      "y=11.00\n"
     ]
    }
   ],
   "source": [
    "x=5.0\n",
    "y=2*x+1\n",
    "print(\"y=\",y)\n",
    "print(\"y=%.2f\"%y) \n",
    "print(\"y={:.2f}\".format(y)) "
   ]
  },
  {
   "cell_type": "code",
   "execution_count": 8,
   "id": "c85cb983-084f-43b0-987f-1793512b57db",
   "metadata": {},
   "outputs": [
    {
     "name": "stdout",
     "output_type": "stream",
     "text": [
      "城市经度 108.94, 纬度是 34.261013.\n"
     ]
    }
   ],
   "source": [
    "city_name=\"Xi'an\"\n",
    "coordinate_longitude=108.942292\n",
    "coordiante_latitude=34.261013\n",
    "print(\"城市经度 {lon:.2f}, 纬度是 {lat}.\".format(lon=coordinate_longitude,lat=coordiante_latitude))"
   ]
  },
  {
   "cell_type": "code",
   "execution_count": 10,
   "id": "45454ee6-0c23-4992-bbec-4a54fc96cade",
   "metadata": {},
   "outputs": [
    {
     "name": "stdout",
     "output_type": "stream",
     "text": [
      "无聊且简单的程序，对于一个C语言学习者来说，简直是浪费时间=2\n"
     ]
    }
   ],
   "source": [
    "x,y,b=2,5,7\n",
    "无聊且简单的程序=2*x+3*y+b\n",
    "print(\"无聊且简单的程序，对于一个C语言学习者来说，简直是浪费时间={}\".format(x,y,b,无聊且简单的程序))"
   ]
  },
  {
   "cell_type": "code",
   "execution_count": 15,
   "id": "79a21999-8a63-4ee5-ab81-d762bbf57f35",
   "metadata": {},
   "outputs": [
    {
     "name": "stdout",
     "output_type": "stream",
     "text": [
      "<class 'list'>\n",
      "The list length=1\n",
      "Maximum value=12\n",
      "Minimum value=12\n"
     ]
    }
   ],
   "source": [
    "lst_n=list(range(12,15,3))\n",
    "print(list)\n",
    "print(\"The list length={}\".format(len(lst_n)))\n",
    "print(\"Maximum value={}\".format(max(lst_n)))\n",
    "print(\"Minimum value={}\".format(min(lst_n)))"
   ]
  },
  {
   "cell_type": "code",
   "execution_count": 16,
   "id": "bc6fbd32-0feb-42fa-989a-cfef056c189f",
   "metadata": {},
   "outputs": [
    {
     "name": "stdout",
     "output_type": "stream",
     "text": [
      "['d', 'e', 'f', 'g', 'h', 'i', 'j', 'k', 'l', 'm']\n",
      "__________________________________________________\n",
      "[3:6]->['g', 'h', 'i']\n",
      "[-3:-1]->['k', 'l']\n",
      "[-3:]->['k', 'l', 'm']\n",
      "[:3]->['d', 'e', 'f']\n",
      "[:]->['d', 'e', 'f', 'g', 'h', 'i', 'j', 'k', 'l', 'm']\n"
     ]
    }
   ],
   "source": [
    "lst_s=list(map(chr,range(100,110)))\n",
    "print(lst_s)\n",
    "print(\"_\"*50)\n",
    "print(\"[3:6]->{}\".format(lst_s[3:6]))\n",
    "print(\"[-3:-1]->{}\".format(lst_s[-3:-1]))\n",
    "print(\"[-3:]->{}\".format(lst_s[-3:]))\n",
    "print(\"[:3]->{}\".format(lst_s[:3]))\n",
    "print(\"[:]->{}\".format(lst_s[:]))"
   ]
  },
  {
   "cell_type": "code",
   "execution_count": 19,
   "id": "3387a16c-eca0-40d3-9289-7e1f80c139f9",
   "metadata": {},
   "outputs": [
    {
     "name": "stdout",
     "output_type": "stream",
     "text": [
      "['d', 'e', 'f', 'g', 'h', 'i', 'j', 'k', 'l', 'm']\n",
      "__________________________________________________\n",
      "[0:10:3]->['d', 'g', 'j', 'm']\n",
      "[::2]->['d', 'g', 'j', 'm']\n",
      "[9:3:-2]->['m', 'k', 'i']\n",
      "[20:3:-2]->['m', 'k', 'i']\n",
      "[7::-2]->['k', 'i', 'g', 'e']\n",
      "[:3:-2]->['m', 'k', 'i']\n"
     ]
    }
   ],
   "source": [
    "print(lst_s)\n",
    "print(\"_\"*50)\n",
    "print(\"[0:10:3]->{}\".format(lst_s[0:10:3]))\n",
    "print(\"[::2]->{}\".format(lst_s[::3]))\n",
    "print(\"[9:3:-2]->{}\".format(lst_s[9:3:-2]))\n",
    "print(\"[20:3:-2]->{}\".format(lst_s[20:3:-2]))\n",
    "print(\"[7::-2]->{}\".format(lst_s[7::-2]))\n",
    "print(\"[:3:-2]->{}\".format(lst_s[:3:-2]))\n"
   ]
  },
  {
   "cell_type": "code",
   "execution_count": 21,
   "id": "6c46a69f-2e9b-42aa-b77a-3e791205e132",
   "metadata": {},
   "outputs": [
    {
     "name": "stdout",
     "output_type": "stream",
     "text": [
      "['d', 'e', 'f', 'g', 'h', 99, 'j', 'k', 'l', 'm']\n",
      "__________________________________________________\n",
      "lst_s[4]=QQ->['d', 'e', 'f', 'g', 'h', 153073940, 'j', 'k', 'l', 'm']\n",
      "lst_s+[None]*6->['d', 'e', 'f', 'g', 'h', 153073940, 'j', 'k', 'l', 'm', None, None, None, None, None, None]\n",
      "lst_none[13]=2015->['d', 'e', 'f', 'g', 'h', 153073940, 'j', 'k', 'l', 'm', None, None, None, 2021, None, None]\n",
      "lst_none[-6:-3]=list(range(100,104,2))->['d', 'e', 'f', 'g', 'h', 153073940, 'j', 'k', 'l', 'm', 100, 102, 2021, None, None]\n",
      "lst_none[1:1]=[0,0,0,12]->['d', 0, 0, 0, 12, 'e', 'f', 'g', 'h', 153073940, 'j', 'k', 'l', 'm', 100, 102, 2021, None, None]\n",
      "del lst_none[-2:]->['d', 0, 0, 0, 12, 'e', 'f', 'g', 'h', 153073940, 'j', 'k', 'l', 'm', 100, 102, 2021]\n"
     ]
    }
   ],
   "source": [
    "print(lst_s)\n",
    "print(\"_\"*50)\n",
    "lst_s[5]=153073940 \n",
    "print(\"lst_s[4]=QQ->{}\".format(lst_s))\n",
    "lst_none=lst_s+[None]*6\n",
    "print(\"lst_s+[None]*6->{}\".format(lst_none))\n",
    "lst_none[13]=2021\n",
    "print(\"lst_none[13]=2015->{}\".format(lst_none))\n",
    "lst_none[-6:-3]=list(range(100,104,2)) #分片赋值\n",
    "print(\"lst_none[-6:-3]=list(range(100,104,2))->{}\".format(lst_none))\n",
    "lst_none[1:1]=[0,0,0,12]\n",
    "print(\"lst_none[1:1]=[0,0,0,12]->{}\".format(lst_none))\n",
    "del lst_none[-2:] #删除元素\n",
    "print(\"del lst_none[-2:]->{}\".format(lst_none))"
   ]
  },
  {
   "cell_type": "code",
   "execution_count": 23,
   "id": "1a9889ef-1b65-47b8-846b-a0c19ba54b9a",
   "metadata": {},
   "outputs": [
    {
     "name": "stdout",
     "output_type": "stream",
     "text": [
      "['d', 'e', 'f', 'g', 'h', 'i', 'j', 'k', 'l', 'm']\n",
      "贴条君出品贴条君出品贴条君出品贴条君出品贴条君出品贴条君出品贴条君出品贴条君出品贴条君出品贴条君出品贴条君出品贴条君出品贴条君出品贴条君出品贴条君出品\n",
      "lst_s_2.append(99)->['d', 'e', 'f', 'g', 'h', 'i', 'j', 'k', 'l', 'm', 99]\n",
      "lst_s_2.append(list(range(30,80,8)))->['d', 'e', 'f', 'g', 'h', 'i', 'j', 'k', 'l', 'm', 99, [30, 38, 46, 54, 62, 70, 78]]\n",
      "lst_s_2.extend(lst_spechars)->['d', 'e', 'f', 'g', 'h', 'i', 'j', 'k', 'l', 'm', 99, [30, 38, 46, 54, 62, 70, 78], '*', ')', '*']\n",
      "lst_s_2.count('*')=2\n",
      "lst_s_2.index('e')=1\n",
      "lst_s_2.insert(2,[1000,1200,1500])->['d', 'e', [1000, 1200, 1500], 'f', 'g', 'h', 'i', 'j', 'k', 'l', 'm', 99, [30, 38, 46, 54, 62, 70, 78], '*', ')', '*']\n",
      "lst_s_2.pop(7)_popup->j\n",
      "lst_s_2.pop(7)_retention->['d', 'e', [1000, 1200, 1500], 'f', 'g', 'h', 'i', 'k', 'l', 'm', 99, [30, 38, 46, 54, 62, 70, 78], '*', ')', '*']\n",
      "lst_s_2.remove('*')_retention->['d', 'e', [1000, 1200, 1500], 'f', 'g', 'h', 'i', 'k', 'l', 'm', 99, [30, 38, 46, 54, 62, 70, 78], ')', '*']\n",
      "list_n_2.sort()->[2, 3, 4, 6, 42, 95]\n"
     ]
    }
   ],
   "source": [
    "lst_s_2=list(map(chr,range(100,110)))\n",
    "print(lst_s_2)\n",
    "print(\"贴条君出品\"*15)\n",
    "lst_s_2.append(99)\n",
    "print(\"lst_s_2.append(99)->{}\".format(lst_s_2))\n",
    "lst_s_2.append(list(range(30,80,8)))\n",
    "print(\"lst_s_2.append(list(range(30,80,8)))->{}\".format(lst_s_2))\n",
    "lst_spechars=['*',')','*']\n",
    "lst_s_2.extend(lst_spechars)\n",
    "print(\"lst_s_2.extend(lst_spechars)->{}\".format(lst_s_2))\n",
    "print(\"lst_s_2.count('*')={}\".format(lst_s_2.count('*')))\n",
    "print(\"lst_s_2.index('e')={}\".format(lst_s_2.index('e')))\n",
    "lst_s_2.insert(2,[1000,1200,1500])\n",
    "print(\"lst_s_2.insert(2,[1000,1200,1500])->{}\".format(lst_s_2))\n",
    "print(\"lst_s_2.pop(7)_popup->{}\".format(lst_s_2.pop(7)))\n",
    "print(\"lst_s_2.pop(7)_retention->{}\".format(lst_s_2))\n",
    "lst_s_2.remove('*')\n",
    "print(\"lst_s_2.remove('*')_retention->{}\".format(lst_s_2))\n",
    "list_n_2=[2,42,6,95,4,3]\n",
    "list_n_2.sort()\n",
    "print(\"list_n_2.sort()->{}\".format(list_n_2))"
   ]
  },
  {
   "cell_type": "code",
   "execution_count": 24,
   "id": "6513c932-c1da-493d-8e01-c32ee4f84345",
   "metadata": {},
   "outputs": [
    {
     "name": "stdout",
     "output_type": "stream",
     "text": [
      "tuple_1=2,3,5,->(1, 3, 9)\n",
      "3*(20*3,)->(60, 60, 60)\n",
      "tuple((5,8,9))->(5, 8, 9)\n",
      "tuple([5,8,9])->(5, 8, 9)\n"
     ]
    }
   ],
   "source": [
    "tuple_1=1,3,9,\n",
    "print(\"tuple_1=2,3,5,->{}\".format(tuple_1))\n",
    "print(\"3*(20*3,)->{}\".format(3*(20*3,)))\n",
    "print(\"tuple((5,8,9))->{}\".format(tuple((5,8,9)))) \n",
    "print(\"tuple([5,8,9])->{}\".format(tuple([5,8,9]))) "
   ]
  },
  {
   "cell_type": "code",
   "execution_count": 30,
   "id": "8414ded1-e072-4494-984f-8f526b39c70e",
   "metadata": {},
   "outputs": [
    {
     "name": "stdout",
     "output_type": "stream",
     "text": [
      "噗哈哈[(0, [0, 1, 2, 3, 4]), (1, [[135, 145, 141]]), (2, '////')]\n",
      "啦啦啦{0: [0, 1, 2, 3, 4], 1: [[135, 145, 141]], 2: '////'}\n",
      "哈哈哈[[135, 145, 141]]\n"
     ]
    }
   ],
   "source": [
    "import random\n",
    "items=[(0,[i for i in range(5)]),(1,[random.sample(list(range(100,200,1)),3)]),(2,'////')] \n",
    "print(\"噗哈哈{}\".format(items))\n",
    "dic=dict(items)\n",
    "print(\"啦啦啦{}\".format(dic))\n",
    "print(\"哈哈哈{}\".format(dic[1]))"
   ]
  },
  {
   "cell_type": "code",
   "execution_count": 42,
   "id": "561687ed-5e06-44a3-a828-9b17c3898c5c",
   "metadata": {},
   "outputs": [
    {
     "name": "stdout",
     "output_type": "stream",
     "text": [
      "0 (0, [0, 1, 2, 3, 4])\n",
      "1 (2, '////')\n",
      "2 (3, (0.5554411807116816, 201.2771441522209))\n"
     ]
    }
   ],
   "source": [
    "for k,v in enumerate(dic.items()): \n",
    "    print(k,v)\n"
   ]
  },
  {
   "cell_type": "code",
   "execution_count": 107,
   "id": "ce63ce72-5476-4492-9387-7de5391b6413",
   "metadata": {},
   "outputs": [
    {
     "name": "stdout",
     "output_type": "stream",
     "text": [
      "lst_A=[6, 11, 16, 21, 26, 31, 36, 41, 46, 51, 56, 61, 66, 71],lst_B=[100, 112, 124, 136, 148]\n",
      "dic_2={0: [6, 11, 16, 21, 26, 31, 36, 41, 46, 51, 56, 61, 66, 71], 1: [100, 112, 124, 136, 148]}\n",
      "__________________________________________________\n",
      "dic_assignment={0: [6, 11, 16, 21, 26, 31, 36, 41, 46, 51, 56, 61, 66, 71], 1: [100, 112, 124, 136, 148]}\n",
      "dic_2.clear()->{}\n",
      "dic_assignment={}\n",
      "dic_2[5]=list(range(1,9,2))->{5: [1, 3, 5, 7]}\n",
      "dic_copy=dic_2.copy()->{5: [1, 3, 5, 7]}\n",
      "dic_2[8]=[5,7]->{5: [1, 3, 5, 7], 8: [5, 7]}\n",
      "dic_copy={5: [1, 3, 5, 7]}\n",
      "dic_copy[5].remove(5)->{5: [1, 3, 7]}\n",
      "dic_copy.setdefault(6,[77,99])->{5: [1, 3, 7], 6: [77, 99]}\n",
      "dic_2.pop(5)->{8: [5, 7]}\n",
      "dic_update={8: [5, 7, 6, 3, 2], 9: [3, 2, 33, 55, 66]}\n",
      "dic_2.update(dic_update->{8: [5, 7, 6, 3, 2], 9: [3, 2, 33, 55, 66]}\n",
      "dic_2.get(9)->[3, 2, 33, 55, 66]\n",
      "dic_2.popitem()->{8: [5, 7, 6, 3, 2]}\n",
      "dic_3={}.fromkeys([0,1,2,3,4,'A'])->{0: None, 1: None, 2: None, 3: None, 4: None, 'A': None}\n"
     ]
    }
   ],
   "source": [
    "lst_A=list(range(6,75,5))\n",
    "lst_B=list(range(100,150,12))\n",
    "print(\"lst_A={},lst_B={}\".format(lst_A,lst_B))\n",
    "dic_2={0:lst_A,1:lst_B}\n",
    "print(\"dic_2={}\".format(dic_2))\n",
    "print(\"_\"*50)\n",
    "dic_assignment=dic_2\n",
    "print(\"dic_assignment={}\".format(dic_assignment))\n",
    "dic_2.clear()\n",
    "print(\"dic_2.clear()->{}\".format(dic_2))\n",
    "print(\"dic_assignment={}\".format(dic_assignment))\n",
    "dic_2[5]=list(range(1,9,2))\n",
    "print(\"dic_2[5]=list(range(1,9,2))->{}\".format(dic_2))\n",
    "dic_copy=dic_2.copy()\n",
    "print(\"dic_copy=dic_2.copy()->{}\".format(dic_copy))\n",
    "dic_2[8]=[5,7]\n",
    "print(\"dic_2[8]=[5,7]->{}\".format(dic_2))\n",
    "print(\"dic_copy={}\".format(dic_copy))\n",
    "dic_copy[5].remove(5)\n",
    "print(\"dic_copy[5].remove(5)->{}\".format(dic_copy))\n",
    "dic_copy.setdefault(6,[77,99]) \n",
    "print(\"dic_copy.setdefault(6,[77,99])->{}\".format(dic_copy))\n",
    "dic_2.pop(5)\n",
    "print(\"dic_2.pop(5)->{}\".format(dic_2))\n",
    "dic_update={8:[5,7,6,3,2],9:[3,2,33,55,66]}\n",
    "print(\"dic_update={}\".format(dic_update))\n",
    "dic_2.update(dic_update) \n",
    "print(\"dic_2.update(dic_update->{}\".format(dic_2))\n",
    "print(\"dic_2.get(9)->{}\".format(dic_2.get(9)))\n",
    "dic_2.popitem() \n",
    "print(\"dic_2.popitem()->{}\".format(dic_2))\n",
    "\n",
    "dic_3={}.fromkeys([0,1,2,3,4,'A']) \n",
    "print(\"dic_3={}\"+\".fromkeys([0,1,2,3,4,'A'])->{}\".format(dic_3))"
   ]
  },
  {
   "cell_type": "code",
   "execution_count": 108,
   "id": "5a2b8c4e-af41-4e49-86dc-2625b47b2951",
   "metadata": {},
   "outputs": [
    {
     "name": "stdout",
     "output_type": "stream",
     "text": [
      "lst_s_3->['A', 'R', 'E', ' ', 'Y', 'O', 'U', ' ', 'O', 'K', 'A', 'Y', '!']\n",
      "\u0007re you\"+\\OKAY\"->Hellow Python!\n",
      "\"+\".join(str(123456))->1+2+3+4+5+6\n",
      "len(\u0007re you okay!\")->14\n",
      "coordinates.split(\",\")->['120.132007', '30.300508', '9.7']\n",
      "eval(coordinates)->(120.132007, 30.300508, 9.7)\n",
      "\\ARE \".lower()->hello python!\n",
      "\u0007re you okay\".upper()->HELLO PYTHON!\n",
      "\\ARE YOU OKAY\"[6:]->Python!\n",
      "\"   ARE YOU OKAY   \".strip()->Hello Python!\n",
      "\\ARE YOU OKAY!\".replace(\"Python\",\"Grasshopper\")->Hello Grasshopper!\n",
      "hello_lst.sort()>[' ', ' ', '!', 'A', 'A', 'E', 'K', 'O', 'O', 'R', 'U', 'Y', 'Y']\n",
      "\"ARE YOU OKAY!\".find(\"Py\")->6\n"
     ]
    }
   ],
   "source": [
    "lst_s_3=list(\"ARE YOU OKAY!\")\n",
    "print(\"lst_s_3->{}\".format(lst_s_3)) \n",
    "print(\"\\are you\\\"+\\OKAY\\\"->{}\".format(\"Hellow\"+\" Python!\"))\n",
    "print(\"\\\"+\\\".join(str(123456))->{}\".format(\"+\".join(str(123456))))\n",
    "print(\"len(\\are you okay!\\\")->{}\".format(len(\"Hellow Python!\")))\n",
    "coordinates=\"120.132007,30.300508,9.7\"\n",
    "print(\"coordinates.split(\\\",\\\")->{}\".format(coordinates.split(\",\")))\n",
    "print(\"eval(coordinates)->{}\".format(eval(coordinates))) #通常用eval()方法将字符串，转换为对应数值形式；\n",
    "print(\"\\ARE \\\".lower()->{}\".format(\"Hello Python!\".lower()))\n",
    "print(\"\\are you okay\\\".upper()->{}\".format(\"Hello Python!\".upper()))\n",
    "print(\"\\ARE YOU OKAY\\\"[6:]->{}\".format(\"Hello Python!\"[6:]))\n",
    "print(\"\\\"   ARE YOU OKAY   \\\".strip()->{}\".format(\"    Hello Python!    \".strip()))\n",
    "print(\"\\ARE YOU OKAY!\\\".replace(\\\"Python\\\",\\\"Grasshopper\\\")->{}\".format(\"Hello Python!\".replace(\"Python\",\"Grasshopper\")))\n",
    "hello_lst=list(\"ARE YOU OKAY!\")\n",
    "hello_lst.sort()\n",
    "print(\"hello_lst.sort()>{}\".format(hello_lst))\n",
    "print(\"\\\"ARE YOU OKAY!\\\".find(\\\"Py\\\")->{}\".format(\"Hello Python!\".find(\"Py\")))\n"
   ]
  },
  {
   "cell_type": "code",
   "execution_count": 45,
   "id": "9ae1b446-da33-461e-8835-0fc9874ca166",
   "metadata": {},
   "outputs": [
    {
     "name": "stdout",
     "output_type": "stream",
     "text": [
      "new_str=format_str % values->Hello,Python and Grasshopper!\n",
      "new_str_2=format_str_2 % (pi,3.1415926)->Pi with three decimals:3.142,and enter a value with percent sign:3.14 %\n"
     ]
    }
   ],
   "source": [
    "format_str=\"Hello,%s and %s!\"\n",
    "values=(\"Python\",\"Grasshopper\")\n",
    "new_str=format_str % values\n",
    "print(\"new_str=format_str % values->{}\".format(new_str))\n",
    "\n",
    "format_str_2=\"Pi with three decimals:%.3f,and enter a value with percent sign:%.2f %%\" #如果字符串里包含实际的%，则通过%%即两个百分号进行转义\n",
    "\n",
    "from math import pi\n",
    "new_str_2=format_str_2 % (pi,3.1415926)\n",
    "print(\"new_str_2=format_str_2 % (pi,3.1415926)->{}\".format(new_str_2))"
   ]
  },
  {
   "cell_type": "code",
   "execution_count": 46,
   "id": "277f400b-e19a-4e26-bf5a-e21017e453aa",
   "metadata": {},
   "outputs": [
    {
     "name": "stdout",
     "output_type": "stream",
     "text": [
      "  3.141593,      3.14,3.14,Hello,Hello,52,34,3.141593\n"
     ]
    }
   ],
   "source": [
    "format_str_3=\"%10f,%10.2f,%.2f,%.5s,%.*s,%d,%x,%f\"\n",
    "new_str_3=format_str_3%(pi,pi,pi,\"Hello Python!\",5,\"Hello Python!\",52,52,pi)\n",
    "print(\"{}\".format(new_str_3))\n"
   ]
  },
  {
   "cell_type": "code",
   "execution_count": 47,
   "id": "8d0babd3-03ff-4cba-9661-0b9ecd1bcacc",
   "metadata": {},
   "outputs": [
    {
     "name": "stdout",
     "output_type": "stream",
     "text": [
      "s_1=s_template_1.substitute(x=\"Python\")->Python,glorious,Python!\n",
      "s_2=s_template_2.substitute(x=\"py\")->python is amazing!\n",
      "substitute_dict={'x': 'Python', 'y': 'Grasshopper'}\n",
      "s_3=s_template_3.substitute(substitute_dict)->Python and Grasshopper are both amazing!\n"
     ]
    }
   ],
   "source": [
    "from string import Template\n",
    "s_template_1=Template(\"$x,glorious,$x!\")\n",
    "s_1=s_template_1.substitute(x=\"Python\")\n",
    "print(\"s_1=s_template_1.substitute(x=\\\"Python\\\")->{}\".format(s_1))\n",
    "s_template_2=Template(\"${x}thon is amazing!\")\n",
    "s_2=s_template_2.substitute(x=\"py\")\n",
    "print(\"s_2=s_template_2.substitute(x=\\\"py\\\")->{}\".format(s_2))\n",
    "s_template_3=Template(\"$x and $y are both amazing!\")\n",
    "substitute_dict=dict([('x','Python'),('y','Grasshopper')])\n",
    "print(\"substitute_dict={}\".format(substitute_dict))\n",
    "s_3=s_template_3.substitute(substitute_dict)\n",
    "print(\"s_3=s_template_3.substitute(substitute_dict)->{}\".format(s_3))\n"
   ]
  },
  {
   "cell_type": "code",
   "execution_count": 48,
   "id": "524c5482-8bfb-432f-960e-8980a1a1dbe0",
   "metadata": {},
   "outputs": [
    {
     "name": "stdout",
     "output_type": "stream",
     "text": [
      "re.findall(pattern_1,text)->['Python']\n",
      "re.findall(pattern_2,text)->[]\n"
     ]
    }
   ],
   "source": [
    "import re\n",
    "pattern_1='Python'\n",
    "text=\"Hello Python!\"\n",
    "print(\"re.findall(pattern_1,text)->{}\".format(re.findall(pattern_1,text)))\n",
    "pattern_2='python'\n",
    "print(\"re.findall(pattern_2,text)->{}\".format(re.findall(pattern_2,text)))"
   ]
  },
  {
   "cell_type": "code",
   "execution_count": 49,
   "id": "f930f038-d6a9-47b7-b7d7-be47e6803468",
   "metadata": {},
   "outputs": [
    {
     "name": "stdout",
     "output_type": "stream",
     "text": [
      "re.findall('.ython','Hello Python!')->['Python']\n",
      "re.findall('.ython','Hello gython!')->['gython']\n",
      "re.findall('.ython','Hello gPython!')->['Python']\n",
      "re.findall('.ython','Hello Pthon!')->[]\n"
     ]
    }
   ],
   "source": [
    "print(\"re.findall('.ython','Hello Python!')->{}\".format(re.findall('.ython','Hello Python!')))\n",
    "print(\"re.findall('.ython','Hello gython!')->{}\".format(re.findall('.ython','Hello gython!')))\n",
    "print(\"re.findall('.ython','Hello gPython!')->{}\".format(re.findall('.ython','Hello gPython!')))\n",
    "print(\"re.findall('.ython','Hello Pthon!')->{}\".format(re.findall('.ython','Hello Pthon!')))"
   ]
  },
  {
   "cell_type": "code",
   "execution_count": 50,
   "id": "7261d2bc-1486-47c0-b9ab-448b8c573f0a",
   "metadata": {},
   "outputs": [
    {
     "name": "stdout",
     "output_type": "stream",
     "text": [
      "re.findall(r'w?cadesign\\.cn,w+\\.cadesign\\.cn','cadesign.cn,www.cadesign.cn')->['cadesign.cn,www.cadesign.cn']\n",
      "re.findall(r'w{2}\\.cadesign\\.cn','www.cadesign.cn')->['ww.cadesign.cn']\n",
      "re.findall(r'w{1,3}\\.cadesign\\.cn','www.cadesign.cn')->['www.cadesign.cn']\n"
     ]
    }
   ],
   "source": [
    "print(\"re.findall(r'w?cadesign\\.cn,w+\\.cadesign\\.cn','cadesign.cn,www.cadesign.cn')->{}\".format(re.findall(r'w?cadesign\\.cn,w+\\.cadesign\\.cn','cadesign.cn,www.cadesign.cn')))\n",
    "print(\"re.findall(r'w{2}\"+\"\\.cadesign\\.cn','www.cadesign.cn')->{}\".format(re.findall(r'w{2}\\.cadesign\\.cn','www.cadesign.cn')))\n",
    "print(\"re.findall(r'w{1,3}\"+\"\\.cadesign\\.cn','www.cadesign.cn')->{}\".format(re.findall(r'w{1,3}\\.cadesign\\.cn','www.cadesign.cn')))"
   ]
  },
  {
   "cell_type": "code",
   "execution_count": 51,
   "id": "e096338a-4125-4b12-97a4-3784f8c67a0a",
   "metadata": {},
   "outputs": [
    {
     "name": "stdout",
     "output_type": "stream",
     "text": [
      "re.findall('[Py]*thon!','Hello Python!')->['Python!']\n",
      "re.findall('[Py]*thon!','Hello Pthon!')->['Pthon!']\n",
      "re.findall('[Py]*thon!','Hello ython!')->['ython!']\n",
      "re.findall('[Py]*thon!','Hello ython!')->['thon!']\n"
     ]
    }
   ],
   "source": [
    "print(\"re.findall('[Py]*thon!','Hello Python!')->{}\".format(re.findall('[Py]*thon!','Hello Python!')))\n",
    "print(\"re.findall('[Py]*thon!','Hello Pthon!')->{}\".format(re.findall('[Py]*thon!','Hello Pthon!')))\n",
    "print(\"re.findall('[Py]*thon!','Hello ython!')->{}\".format(re.findall('[Py]*thon!','Hello ython!')))\n",
    "print(\"re.findall('[Py]*thon!','Hello ython!')->{}\".format(re.findall('[Py]*thon!','Hello thon!')))"
   ]
  },
  {
   "cell_type": "code",
   "execution_count": 53,
   "id": "7d778aed-832f-4c1d-93ae-eebd721b4779",
   "metadata": {},
   "outputs": [
    {
     "name": "stdout",
     "output_type": "stream",
     "text": [
      "re.findall('python|grasshopper','python')->['python']\n",
      "re.findall('python|grasshopper','grasshopper')->['grasshopper']\n",
      "re.findall('python|grasshopper','grasshopper and python')->['grasshopper', 'python']\n"
     ]
    }
   ],
   "source": [
    "print(\"re.findall('python|grasshopper','python')->{}\".format(re.findall('python|grasshopper','python')))\n",
    "print(\"re.findall('python|grasshopper','grasshopper')->{}\".format(re.findall('python|grasshopper','grasshopper')))\n",
    "print(\"re.findall('python|grasshopper','grasshopper and python')->{}\".format(re.findall('python|grasshopper','grasshopper and python')))\n"
   ]
  },
  {
   "cell_type": "code",
   "execution_count": 54,
   "id": "ba3ede81-3d62-4c17-8391-c0e16438f08c",
   "metadata": {},
   "outputs": [
    {
     "name": "stdout",
     "output_type": "stream",
     "text": [
      "re.findall('\\d','number=10')->['1', '0']\n",
      "re.findall('\\D','number=10')->['n', 'u', 'm', 'b', 'e', 'r', '=']\n",
      "re.findall('[^0-9]','number=10')->['n', 'u', 'm', 'b', 'e', 'r', '=']\n"
     ]
    }
   ],
   "source": [
    "print(\"re.findall('\\d','number=10')->{}\".format(re.findall('\\d','number=10')))\n",
    "print(\"re.findall('\\D','number=10')->{}\".format(re.findall('\\D','number=10')))\n",
    "print(\"re.findall('[^0-9]','number=10')->{}\".format(re.findall('[^0-9]','number=10')))\n"
   ]
  },
  {
   "cell_type": "code",
   "execution_count": 55,
   "id": "e3f56f06-aaeb-499f-a420-3ba2b546dd7f",
   "metadata": {},
   "outputs": [
    {
     "name": "stdout",
     "output_type": "stream",
     "text": [
      "re.findall('[a-z]','python')->['p', 'y', 't', 'h', 'o', 'n']\n",
      "re.search('[a-z]+','python')-><re.Match object; span=(0, 6), match='python'>\n",
      "re.search('[a-z]+','python')->found it!\n",
      "re.split(',','Hello,,,,,,Python!')->['Hello', '', '', '', '', '', 'Python!']\n",
      "re.sub('Python','Grasshopper','Hello Python!')->Hello Grasshopper!\n",
      "pattern_compile.findall('Hello,,,,,,Python!')->['Python']\n",
      "re.match('p','python')->found it!\n"
     ]
    }
   ],
   "source": [
    "print(\"re.findall('[a-z]','python')->{}\".format(re.findall('[a-z]','python-3.0')))\n",
    "print(\"re.search('[a-z]+','python')->{}\".format(re.search('[a-z]+','python')))\n",
    "if re.search('[a-z]+','python'):\n",
    "    print(\"re.search('[a-z]+','python')->found it!\")\n",
    "print(\"re.split(',','Hello,,,,,,Python!')->{}\".format(re.split(',','Hello,,,,,,Python!')))\n",
    "print(\"re.sub('Python','Grasshopper','Hello Python!')->{}\".format(re.sub('Python','Grasshopper','Hello Python!')))\n",
    "\n",
    "pattern_compile=re.compile('Python')\n",
    "print(\"pattern_compile.findall('Hello,,,,,,Python!')->{}\".format(pattern_compile.findall('Hello,,,,,,Python!')))\n",
    "\n",
    "if re.match('p','python'):\n",
    "    print(\"re.match('p','python')->found it!\")\n"
   ]
  },
  {
   "cell_type": "code",
   "execution_count": 56,
   "id": "2d17be1c-e396-4f6e-b617-207c1393fc7e",
   "metadata": {},
   "outputs": [
    {
     "name": "stdout",
     "output_type": "stream",
     "text": [
      "'python'.find('python')->0\n",
      "'python'.find('thon')->2\n",
      "'python'.find('a')->-1\n",
      "'p' in 'python'->True\n"
     ]
    }
   ],
   "source": [
    "print(\"\\'python\\'.find(\\'python\\')->{}\".format('python'.find('python')))\n",
    "print(\"\\'python\\'.find(\\'thon\\')->{}\".format('python'.find('thon')))\n",
    "print(\"\\'python\\'.find(\\'a\\')->{}\".format('python'.find('a')))\n",
    "print(\"\\'p\\' in \\'python\\'->{}\".format('p' in 'python'))\n"
   ]
  },
  {
   "cell_type": "code",
   "execution_count": 57,
   "id": "993bfcf1-af77-4663-8ded-1faecff704a2",
   "metadata": {},
   "outputs": [
    {
     "name": "stdout",
     "output_type": "stream",
     "text": [
      "'Hello,,,,,,Python!'.split(',')->['Hello', '', '', '', '', '', 'Python!']\n",
      "'Hello Python!'.replace('Python','Grasshopper')->Hello Grasshopper!\n"
     ]
    }
   ],
   "source": [
    "print(\"\\'Hello,,,,,,Python!\\'.split(',')->{}\".format( 'Hello,,,,,,Python!'.split(',')))\n",
    "print(\"\\'Hello Python!\\'.replace(\\'Python\\',\\'Grasshopper\\')->{}\".format( 'Hello Python!'.replace('Python','Grasshopper')))\n"
   ]
  },
  {
   "cell_type": "code",
   "execution_count": 58,
   "id": "394423ae-90e8-4d0a-9ce6-0aefa67c7c53",
   "metadata": {},
   "outputs": [
    {
     "name": "stdout",
     "output_type": "stream",
     "text": [
      "match_1.gourp(1)->python\n",
      "match_1.start(1)->4\n",
      "match_1.end(1)->10\n",
      "match_1.span(1)->(4, 10)\n",
      "match_2.group(1)->python\n",
      "match_2.group(2)->org\n"
     ]
    }
   ],
   "source": [
    "match_1=re.match(r'www\\.(.*)\\..{3}','www.python.org')\n",
    "print(\"match_1.gourp(1)->{}\".format(match_1.group(1)))\n",
    "print(\"match_1.start(1)->{}\".format(match_1.start(1)))\n",
    "print(\"match_1.end(1)->{}\".format(match_1.end(1)))\n",
    "print(\"match_1.span(1)->{}\".format(match_1.span(1)))\n",
    "match_2=re.match(r'www\\.(.*)\\.(.{3})','www.python.org')\n",
    "print(\"match_2.group(1)->{}\".format(match_2.group(1)))\n",
    "print(\"match_2.group(2)->{}\".format(match_2.group(2)))\n"
   ]
  },
  {
   "cell_type": "code",
   "execution_count": 59,
   "id": "2ebfca73-50b9-4860-85a1-3b4a832021dd",
   "metadata": {},
   "outputs": [
    {
     "name": "stdout",
     "output_type": "stream",
     "text": [
      "lst_1=[29, 31, 33, 35]\n",
      "__________________________________________________\n",
      "for i in lst_1:\n",
      "29\n",
      "31\n",
      "33\n",
      "35\n",
      "for i in range(len(lst_1)):\n",
      "idx=0,val=29\n",
      "idx=1,val=31\n",
      "idx=2,val=33\n",
      "idx=3,val=35\n",
      "++++++++++++++++++++++++++++++++++++++++++++++++++\n",
      "dic_4={'a': 2, 'b': 3, 'c': 6, 'd': 0}\n",
      "__________________________________________________\n",
      "for k in dic_4:\n",
      "a\n",
      "b\n",
      "c\n",
      "d\n",
      "for k,v in dic_4.items():\n",
      "key=a,val=2\n",
      "key=b,val=3\n",
      "key=c,val=6\n",
      "key=d,val=0\n"
     ]
    }
   ],
   "source": [
    "lst_1=list(range(29,37,2))\n",
    "print(\"lst_1={}\".format(lst_1))\n",
    "print(\"_\"*50)\n",
    "print(\"for i in lst_1:\")\n",
    "for i in lst_1:\n",
    "    print(i)\n",
    "print(\"for i in range(len(lst_1)):\")\n",
    "for i in range(len(lst_1)):\n",
    "    print(\"idx={},val={}\".format(i,lst_1[i]))\n",
    "print(\"+\"*50)   \n",
    "dic_4=dict(a=2,b=3,c=6,d=0)\n",
    "print(\"dic_4={}\".format(dic_4))\n",
    "print(\"_\"*50)\n",
    "print(\"for k in dic_4:\")\n",
    "for k in dic_4:\n",
    "    print(k)\n",
    "print(\"for k,v in dic_4.items():\")\n",
    "for k,v in dic_4.items():\n",
    "    print(\"key={},val={}\".format(k,v))\n"
   ]
  },
  {
   "cell_type": "code",
   "execution_count": 60,
   "id": "432fec5c-47ec-4d78-bc10-28fc656218cf",
   "metadata": {},
   "outputs": [
    {
     "name": "stdout",
     "output_type": "stream",
     "text": [
      "x=1\n",
      "x=11\n",
      "x=21\n",
      "x=31\n",
      "x=41\n",
      "x=51\n",
      "x=61\n",
      "x=71\n",
      "x=81\n",
      "x=91\n"
     ]
    }
   ],
   "source": [
    "x=1\n",
    "while x<=100:\n",
    "    print(\"x={}\".format(x))\n",
    "    x+=10 #增量赋值; x*=2     \n"
   ]
  },
  {
   "cell_type": "code",
   "execution_count": 61,
   "id": "2f955ba5-0c38-495a-aeb5-9110cdbfbc10",
   "metadata": {},
   "outputs": [
    {
     "name": "stdout",
     "output_type": "stream",
     "text": [
      "x=1\n",
      "x=11\n",
      "x=21\n",
      "x=31\n",
      "x=41\n",
      "sys.maxsize=9223372036854775807\n",
      "i=0\n",
      "i=1\n",
      "i=2\n",
      "i=3\n",
      "i=4\n",
      "i=5\n",
      "i=6\n",
      "i=7\n",
      "i=8\n",
      "i=9\n",
      "i=10\n",
      "i=11\n",
      "i=12\n",
      "i=13\n",
      "i=14\n",
      "i=15\n",
      "i=16\n",
      "i=17\n",
      "i=18\n",
      "i=19\n",
      "i=20\n"
     ]
    }
   ],
   "source": [
    "x=1\n",
    "while x<=100:\n",
    "    print(\"x={}\".format(x))\n",
    "    x+=10 \n",
    "    if x>=50:break    \n",
    "    \n",
    "import sys\n",
    "print(\"sys.maxsize={}\".format(sys.maxsize))\n",
    "for i in range(sys.maxsize):\n",
    "    print(\"i={}\".format(i))  #?\n",
    "    i+=10\n",
    "    if i>=30:break\n"
   ]
  },
  {
   "cell_type": "code",
   "execution_count": 66,
   "id": "02fb2c74-cade-4678-8b77-6d299c893931",
   "metadata": {},
   "outputs": [
    {
     "name": "stdout",
     "output_type": "stream",
     "text": [
      "zip_lst=zip(lst_a,lst_b)-><zip object at 0x000001E5741DF980>\n",
      "dict(zip_lst)->{0: 'point_a', 1: 'point_b', 2: 'point_c', 3: 'point_d'}\n",
      "0 point_a\n",
      "1 point_b\n",
      "2 point_c\n",
      "3 point_d\n",
      "a=(0, 1, 2, 3),b=('point_a', 'point_b', 'point_c', 'point_d')\n"
     ]
    }
   ],
   "source": [
    "lst_a=[0,1,2,3]\n",
    "lst_b=['point_a','point_b','point_c','point_d']\n",
    "zip_lst=zip(lst_a,lst_b) #The zip() function takes iterables (can be zero or more), aggregates them in a tuple, and returns it.\n",
    "print(\"zip_lst=zip(lst_a,lst_b)->{}\".format(zip_lst))\n",
    "print(\"dict(zip_lst)->{}\".format(dict(zip_lst)))\n",
    "\n",
    "zip_lst=zip(lst_a,lst_b)\n",
    "for a,b in zip_lst:\n",
    "    print(a,b)\n",
    "    \n",
    "zip_lst=zip(lst_a,lst_b)\n",
    "a,b=zip(*zip_lst)\n",
    "print(\"a={},b={}\".format(a,b))\n"
   ]
  },
  {
   "cell_type": "code",
   "execution_count": 67,
   "id": "eb5e8a61-0287-4363-b9dc-a8f011ade61f",
   "metadata": {},
   "outputs": [
    {
     "name": "stdout",
     "output_type": "stream",
     "text": [
      "dic_4={0: 'point_a', 1: 'point_b', 2: 'point_c', 3: 'point_d'}\n",
      "dict((i,v) for i,v in enumerate(lst_c))->{0: 'point_a', 1: 'point_b', 2: 'point_c', 3: 'point_d'}\n",
      "__________________________________________________\n",
      "0:0,point_a\n",
      "1:1,point_b\n",
      "2:2,point_c\n",
      "3:3,point_d\n"
     ]
    }
   ],
   "source": [
    "lst_c=['point_a','point_b','point_c','point_d']\n",
    "dic_4={}\n",
    "for idx,value in enumerate(lst_c):\n",
    "    dic_4[idx]=value\n",
    "print(\"dic_4={}\".format(dic_4))\n",
    "print(\"dict((i,v) for i,v in enumerate(lst_c))->{}\".format(dict((i,v) for i,v in enumerate(lst_c)))) \n",
    "print(\"_\"*50)\n",
    "for i,(a,b) in enumerate(zip(lst_a,lst_b)):\n",
    "    print('%d:%s,%s'%(i,a,b))\n"
   ]
  },
  {
   "cell_type": "code",
   "execution_count": 68,
   "id": "fe9bd6ce-95f1-4ff0-b731-d03b831fcd5b",
   "metadata": {},
   "outputs": [
    {
     "name": "stdout",
     "output_type": "stream",
     "text": [
      "[x*x for x in range(3,37,5) if x%2==0]->[64, 324, 784]\n",
      "[(x,y) for x in range(3)for y in range(2)]->[(0, 0), (0, 1), (1, 0), (1, 1), (2, 0), (2, 1)]\n",
      "[(x,y) for x,y in zip(range(3),range(2))]->[(0, 0), (1, 1)]\n",
      "[[a for a in range(1,10,3)],2,3,[b for b in range(60,100,7)],[[c for c in range(1000,2000,120)],3,9]]->[[1, 4, 7], 2, 3, [60, 67, 74, 81, 88, 95], [[1000, 1120, 1240, 1360, 1480, 1600, 1720, 1840, 1960], 3, 9]]\n",
      "flatten_lst(nested_list)->[1, 4, 7, 2, 3, 60, 67, 74, 81, 88, 95, 1000, 1120, 1240, 1360, 1480, 1600, 1720, 1840, 1960, 3, 9]\n"
     ]
    }
   ],
   "source": [
    "print(\"[x*x for x in range(3,37,5) if x%2==0]->{}\".format([x*x for x in range(3,37,5) if x%2==0]))\n",
    "print(\"[(x,y) for x in range(3)for y in range(2)]->{}\".format([(x,y) for x in range(3)for y in range(2)]))\n",
    "print(\"[(x,y) for x,y in zip(range(3),range(2))]->{}\".format([(x,y) for x,y in zip(range(3),range(2))]))\n",
    "nested_list=[[a for a in range(1,10,3)],2,3,[b for b in range(60,100,7)],[[c for c in range(1000,2000,120)],3,9]]\n",
    "print(\"[[a for a in range(1,10,3)],2,3,[b for b in range(60,100,7)],[[c for c in range(1000,2000,120)],3,9]]->{}\".format(nested_list))\n",
    "\n",
    "flatten_lst=lambda lst: [m for n_lst in lst for m in flatten_lst(n_lst)] if type(lst) is list else [lst] \n",
    "print(\"flatten_lst(nested_list)->{}\".format(flatten_lst(nested_list)))\n"
   ]
  },
  {
   "cell_type": "code",
   "execution_count": 115,
   "id": "d6f40568-3235-4dce-928b-d808c089ade6",
   "metadata": {},
   "outputs": [
    {
     "name": "stdout",
     "output_type": "stream",
     "text": [
      "卧槽，是负数.\n"
     ]
    }
   ],
   "source": [
    "\n",
    "x=-1\n",
    "if x<0:\n",
    "    print('卧槽，是负数.')\n",
    "elif x==0:\n",
    "    print('是0，你输他干嘛.')\n",
    "elif 0<x<10:\n",
    "    print('连10都不到的正数')\n",
    "else:\n",
    "    print('大佬啊，大于等于Ⅹ的正数.')\n"
   ]
  },
  {
   "cell_type": "code",
   "execution_count": 71,
   "id": "9c8b542a-f8c7-4227-9222-6022ac6c5cc3",
   "metadata": {},
   "outputs": [
    {
     "name": "stdout",
     "output_type": "stream",
     "text": [
      "x==y->True\n",
      "x is y->True\n",
      "x==z->True\n",
      "x is z->False\n",
      "x is not y->False\n",
      "x is not z->True\n",
      "id_x:2085007260480;id_y:2085007260480;id_z:2085007220224\n",
      "x=[3, 6],y=[3, 6],z=[3, 6, 9] after del x[2]\n"
     ]
    }
   ],
   "source": [
    "x=y=[3,6,9]\n",
    "z=[3,6,9]\n",
    "print(\"x==y->{}\".format(x==y))\n",
    "print(\"x is y->{}\".format(x is y))\n",
    "print(\"x==z->{}\".format(x==z))\n",
    "print(\"x is z->{}\".format(x is z))\n",
    "print(\"x is not y->{}\".format(x is not y))\n",
    "print(\"x is not z->{}\".format(x is not z))\n",
    "print(\"id_x:{};id_y:{};id_z:{}\".format(id(x),id(y),id(z))) #Memory Location\n",
    "\n",
    "del x[2]\n",
    "print(\"x={},y={},z={} after del x[2]\".format(x,y,z))\n"
   ]
  },
  {
   "cell_type": "code",
   "execution_count": 72,
   "id": "309932c9-ca67-4c92-bc81-77b7052932f4",
   "metadata": {},
   "outputs": [
    {
     "name": "stdout",
     "output_type": "stream",
     "text": [
      "3 in x->True\n",
      "0 in x->False\n",
      "3 not in x->False\n",
      "0 not in x->True\n"
     ]
    }
   ],
   "source": [
    "x=[3,6,9]\n",
    "print(\"3 in x->{}\".format(3 in x))\n",
    "print(\"0 in x->{}\".format(0 in x))\n",
    "print(\"3 not in x->{}\".format(3 not in x))\n",
    "print(\"0 not in x->{}\".format(0 not in x))\n"
   ]
  },
  {
   "cell_type": "code",
   "execution_count": 113,
   "id": "bef1a03b-a29f-4df6-bd73-f73384aa09ff",
   "metadata": {},
   "outputs": [
    {
     "name": "stdout",
     "output_type": "stream",
     "text": [
      "a<c<b 你一定开玩笑!!!\n"
     ]
    }
   ],
   "source": [
    "a,b,c=0,10,15\n",
    "if c>a and c<b:\n",
    "    print('a<c<b')\n",
    "else: print('a<c<b 你一定开玩笑!!!')\n"
   ]
  },
  {
   "cell_type": "code",
   "execution_count": 76,
   "id": "f0be0b34-de9d-4c03-8d31-e835685f9b6c",
   "metadata": {},
   "outputs": [
    {
     "name": "stdout",
     "output_type": "stream",
     "text": [
      "simple_func(3,7)->16\n",
      "simple_func(7,3)->52\n",
      "simple_func(y=7,x=3)->16\n"
     ]
    }
   ],
   "source": [
    "def simple_func(x,y):\n",
    "    z=pow(x,2)+y\n",
    "    return z\n",
    "print(\"simple_func(3,7)->{}\".format(simple_func(3,7)))\n",
    "print(\"simple_func(7,3)->{}\".format(simple_func(7,3)))\n",
    "print(\"simple_func(y=7,x=3)->{}\".format(simple_func(y=7,x=3)))\n",
    "\n"
   ]
  },
  {
   "cell_type": "code",
   "execution_count": 78,
   "id": "10b90546-a812-4a92-8d99-e352e2b8a472",
   "metadata": {},
   "outputs": [
    {
     "name": "stdout",
     "output_type": "stream",
     "text": [
      "斐波那契(6,9)->[5, 8, 13, 21, 34, 55, 89, 144, 233]\n",
      "斐波那契(7,9)->[8, 13, 21, 34, 55, 89, 144, 233, 377]\n"
     ]
    }
   ],
   "source": [
    "def fibonacci(s,count): #定义fib函数的方法较笨\n",
    "    fib_lst=[0,1]\n",
    "    fib_part=[]\n",
    "    if s==0 or s==1:\n",
    "        fib_part[:]=fib_lst\n",
    "        for i in range(count-2):\n",
    "            fib_part.append(fib_part[-1]+fib_part[-2])\n",
    "    else:\n",
    "        while True:\n",
    "            fib_lst[:]=[fib_lst[1],fib_lst[0]+fib_lst[1]]\n",
    "            #print(fib_lst)\n",
    "            if fib_lst[1]-s>=0:break\n",
    "        fib_part[:]=fib_lst\n",
    "        if abs(fib_lst[0]-s)>=abs(fib_lst[1]-s):\n",
    "            for i in range(count-1):\n",
    "                fib_part.append(fib_part[-1]+fib_part[-2])\n",
    "            fib_part.pop(0)\n",
    "        else:\n",
    "            for i in range(count-2):\n",
    "                fib_part.append(fib_part[-1]+fib_part[-2])\n",
    "    return fib_part\n",
    "\n",
    "print(\"斐波那契(6,9)->{}\".format(fibonacci(6,9)))\n",
    "print(\"斐波那契(7,9)->{}\".format(fibonacci(7,9)))\n"
   ]
  },
  {
   "cell_type": "code",
   "execution_count": 79,
   "id": "5261a3b5-3c66-4dd2-b521-887090f3ec41",
   "metadata": {},
   "outputs": [
    {
     "name": "stdout",
     "output_type": "stream",
     "text": [
      "5040\n"
     ]
    }
   ],
   "source": [
    "def factorial(n):\n",
    "    if n==1:\n",
    "        return 1\n",
    "    else:\n",
    "        return n*factorial(n-1)\n",
    "print(factorial(7))\n"
   ]
  },
  {
   "cell_type": "code",
   "execution_count": 81,
   "id": "8b928ac7-c70d-415e-bd53-078e53114f81",
   "metadata": {},
   "outputs": [
    {
     "name": "stdout",
     "output_type": "stream",
     "text": [
      "swift.fly->Whirring\n",
      "swift.eat()->\n",
      "Aaaah...\n",
      "swift.eat()->\n",
      "No.Thanks!\n",
      "swift.sing()->\n",
      "Squawk!\n"
     ]
    }
   ],
   "source": [
    "class Bird:\n",
    "    fly='Whirring' #美 /wɜːr/ \n",
    "    def __init__(self):\n",
    "        self.hungry=True\n",
    "    def eat(self):\n",
    "        if self.hungry:\n",
    "            print('Aaaah...')\n",
    "            self.hungry=False\n",
    "        else:\n",
    "            print('No.Thanks!')\n",
    "\n",
    "class Apodidae(Bird):  #/'æpədədi:/\n",
    "    def __init__(self):\n",
    "        super(Apodidae,self).__init__()\n",
    "        self.sound='Squawk!' #美 /skwɔːk/ \n",
    "    def sing(self):\n",
    "        print(self.sound)\n",
    "swift=Apodidae()\n",
    "print(\"swift.fly->{}\".format(swift.fly))\n",
    "print(\"swift.eat()->\")\n",
    "swift.eat()\n",
    "print(\"swift.eat()->\")\n",
    "swift.eat()\n",
    "print(\"swift.sing()->\")\n",
    "swift.sing()\n"
   ]
  },
  {
   "cell_type": "code",
   "execution_count": 82,
   "id": "ec431679-d78a-47d3-9eb9-844d9786ce4e",
   "metadata": {},
   "outputs": [
    {
     "name": "stdout",
     "output_type": "stream",
     "text": [
      "blackswift.sing()->\n",
      "Squawk!\n",
      "scarceswift.sing()->\n",
      "Squawk!\n"
     ]
    }
   ],
   "source": [
    "blackswift=Apodidae()\n",
    "scarceswift=Apodidae()\n",
    "print(\"blackswift.sing()->\")\n",
    "blackswift.sing()\n",
    "print(\"scarceswift.sing()->\")\n",
    "scarceswift.sing()\n"
   ]
  },
  {
   "cell_type": "code",
   "execution_count": 83,
   "id": "82727242-3429-4b64-ab5d-2e4f6e84427a",
   "metadata": {},
   "outputs": [
    {
     "name": "stdout",
     "output_type": "stream",
     "text": [
      "blackswift.fly->Whirring\n",
      "blackswift.fly after redefining the blackswif's attribute->humming\n",
      "scarceswift.fly->Whirring\n"
     ]
    }
   ],
   "source": [
    "print(\"blackswift.fly->{}\".format(blackswift.fly))\n",
    "blackswift.fly='humming' #重新赋予实例的属性\n",
    "print(\"blackswift.fly after redefining the blackswif's attribute->{}\".format(blackswift.fly))\n",
    "print(\"scarceswift.fly->{}\".format(scarceswift.fly))\n"
   ]
  },
  {
   "cell_type": "code",
   "execution_count": 87,
   "id": "f5f9fc33-ceab-4e8e-a4ac-3f176d5300dc",
   "metadata": {},
   "outputs": [
    {
     "name": "stdout",
     "output_type": "stream",
     "text": [
      "fa=[1, 1, 2, 3, 5, 8, 13, 21, 34]\n",
      "fb=[55, 89, 144, 233, 377]\n"
     ]
    }
   ],
   "source": [
    "class Fibs():\n",
    "    def __init__(self):\n",
    "        self.a=0\n",
    "        self.b=1\n",
    "    def next(self):  \n",
    "        self.a,self.b=self.b,self.a+self.b\n",
    "        return self.a\n",
    "    def __iter__(self): \n",
    "        return self\n",
    "f=Fibs()\n",
    "fa=[]\n",
    "fb=[]\n",
    "for i in range(9):\n",
    "    fa.append(f.next())\n",
    "print(\"fa={}\".format(fa))\n",
    "for i in range(5):\n",
    "    fb.append(f.next())\n",
    "print(\"fb={}\".format(fb))\n",
    "\n"
   ]
  },
  {
   "cell_type": "code",
   "execution_count": 94,
   "id": "e0fe4bc6-1284-4c1e-8a0d-95a26c8c38d3",
   "metadata": {},
   "outputs": [
    {
     "name": "stdout",
     "output_type": "stream",
     "text": [
      "lst_e=[[3, 6, 9, 12, 15, 18], [3, 7, 67, [0, 1, 2, 3, 4], 89]]\n",
      "__________________________________________________\n",
      "flatten_lst=[3, 6, 9, 12, 15, 18, 3, 7, 67, 0, 1, 2, 3, 4, 89]\n"
     ]
    }
   ],
   "source": [
    "lst_e=[list(range(3,20,3)),[3,7,67,list(range(5)),89]]\n",
    "print(\"lst_e={}\".format(lst_e))\n",
    "print(\"_\"*50)\n",
    "flatten_lst=[]\n",
    "for v_1 in lst_e:\n",
    "    try:\n",
    "        for v_2 in v_1:\n",
    "            try:\n",
    "                for v_3 in v_2:\n",
    "                    flatten_lst.append(v_3)\n",
    "            except TypeError:\n",
    "                flatten_lst.append(v_2)\n",
    "    except TypeError:\n",
    "        flatten_lst.append(v_1)\n",
    "print(\"flatten_lst={}\".format(flatten_lst))\n"
   ]
  },
  {
   "cell_type": "code",
   "execution_count": 112,
   "id": "7f5e0e53-3368-471c-be72-9ae9e2b22d72",
   "metadata": {},
   "outputs": [
    {
     "name": "stdout",
     "output_type": "stream",
     "text": [
      "下一个->num#0\n",
      "下一个->num#1\n",
      "下一个->num#2\n",
      "[next(n) for i in range(5)]->['num#3', 'num#4', 'num#5', 'num#6', 'num#7']\n"
     ]
    }
   ],
   "source": [
    "def infinite():\n",
    "    n=0\n",
    "    while True:\n",
    "        yield 'num#'+str(n)\n",
    "        n+=1\n",
    "n=infinite()\n",
    "print(\"下一个->{}\".format(next(n)))\n",
    "print(\"下一个->{}\".format(next(n)))\n",
    "print(\"下一个->{}\".format(next(n)))\n",
    "print(\"[next(n) for i in range(5)]->{}\".format([next(n) for i in range(5)]))\n"
   ]
  },
  {
   "cell_type": "code",
   "execution_count": 111,
   "id": "f76acc45-8d63-4260-b447-0b921f69a2b4",
   "metadata": {},
   "outputs": [
    {
     "name": "stdout",
     "output_type": "stream",
     "text": [
      "[[(2*Π*(2*(u/(n-1))-1),2*Π*(2*(v/(n-1))-1)) for u in range(n)] for v in range(n)]->[[(-6.283185307179586, -6.283185307179586), (0.0, -6.283185307179586), (6.283185307179586, -6.283185307179586)], [(-6.283185307179586, 0.0), (0.0, 0.0), (6.283185307179586, 0.0)], [(-6.283185307179586, 6.283185307179586), (0.0, 6.283185307179586), (6.283185307179586, 6.283185307179586)]]\n",
      "__________________________________________________\n",
      "([(2*Π*(2*(u/(n-1))-1),2*Π*(2*(v/(n-1))-1)) for u in range(n)] for v in range(n))-><generator object <genexpr> at 0x000001E57420E2E0>\n",
      "next(gen)->[(-6.283185307179586, -6.283185307179586), (0.0, -6.283185307179586), (6.283185307179586, -6.283185307179586)]\n",
      "next(gen)->[(-6.283185307179586, 0.0), (0.0, 0.0), (6.283185307179586, 0.0)]\n"
     ]
    }
   ],
   "source": [
    "n=3\n",
    "print(\"[[(2*Π*(2*(u/(n-1))-1),2*Π*(2*(v/(n-1))-1)) for u in range(n)] for v in range(n)]->{}\".format([[(2*pi*(2*(u/(n-1))-1),2*pi*(2*(v/(n-1))-1)) for u in range(n)] for v in range(n)]))\n",
    "print(\"_\"*50)\n",
    "print(\"([(2*Π*(2*(u/(n-1))-1),2*Π*(2*(v/(n-1))-1)) for u in range(n)] for v in range(n))->{}\".format(([(2*pi*(2*(u/(n-1))-1),2*pi*(2*(v/(n-1))-1)) for u in range(n)] for v in range(n))))\n",
    "gen=([(2*pi*(2*(u/(n-1))-1),2*pi*(2*(v/(n-1))-1)) for u in range(n)] for v in range(n))\n",
    "print(\"next(gen)->{}\".format(next(gen)))\n",
    "print(\"next(gen)->{}\".format(next(gen)))\n"
   ]
  },
  {
   "cell_type": "code",
   "execution_count": 98,
   "id": "839a753a-e49a-4ae8-ad11-837673b20c4e",
   "metadata": {},
   "outputs": [
    {
     "name": "stdout",
     "output_type": "stream",
     "text": [
      "f_convert_a('3.1415')->3.1415\n",
      "f_convert_a('string')->string\n",
      "f_convert_a(3,6,7)->(3, 6, 7)\n"
     ]
    }
   ],
   "source": [
    "def f_convert_a(x):\n",
    "    try:\n",
    "        return float(x)\n",
    "    except:\n",
    "        return x\n",
    "print(\"f_convert_a('3.1415')->{}\".format(f_convert_a('3.1415')))    \n",
    "print(\"f_convert_a('string')->{}\".format(f_convert_a('string')))  \n",
    "print(\"f_convert_a(3,6,7)->{}\".format(f_convert_a((3,6,7))))  \n"
   ]
  },
  {
   "cell_type": "code",
   "execution_count": 100,
   "id": "bfdf7372-1763-4ae1-8550-047eaa289879",
   "metadata": {},
   "outputs": [
    {
     "name": "stdout",
     "output_type": "stream",
     "text": [
      "f_convert_d('3.1415')->3.1415\n",
      "string ValueError or TypeError\n",
      "f_convert_d('string')->None\n",
      "(3, 6, 7) ValueError or TypeError\n",
      "f_convert_d(3,6,7)->None\n"
     ]
    }
   ],
   "source": [
    "def f_convert_d(x):\n",
    "    try:\n",
    "        return float(x)\n",
    "    except (ValueError,TypeError):\n",
    "        print(x,'ValueError or TypeError')\n",
    "print(\"f_convert_d('3.1415')->{}\".format(f_convert_d('3.1415')))    \n",
    "print(\"f_convert_d('string')->{}\".format(f_convert_d('string')))  \n",
    "print(\"f_convert_d(3,6,7)->{}\".format(f_convert_d((3,6,7)))) \n"
   ]
  },
  {
   "cell_type": "code",
   "execution_count": 101,
   "id": "529d773d-5751-4161-b1fb-ea73ceb2b3e7",
   "metadata": {},
   "outputs": [
    {
     "name": "stdout",
     "output_type": "stream",
     "text": [
      "f_convert_e('3.1415')->3.1415\n",
      "string could not convert string to float: 'string'\n",
      "f_convert_e('string')->None\n",
      "(3, 6, 7) float() argument must be a string or a number, not 'tuple'\n",
      "f_convert_e(3,6,7)->None\n"
     ]
    }
   ],
   "source": [
    "def f_convert_e(x):\n",
    "    try:\n",
    "        return float(x)\n",
    "    except (ValueError,TypeError) as e:\n",
    "        return print(x,e)\n",
    "print(\"f_convert_e('3.1415')->{}\".format(f_convert_e('3.1415')))    \n",
    "print(\"f_convert_e('string')->{}\".format(f_convert_e('string')))  \n",
    "print(\"f_convert_e(3,6,7)->{}\".format(f_convert_e((3,6,7))))    \n"
   ]
  },
  {
   "cell_type": "code",
   "execution_count": 102,
   "id": "a0dc5330-e2e5-4590-b23e-377f39130b34",
   "metadata": {},
   "outputs": [
    {
     "name": "stdout",
     "output_type": "stream",
     "text": [
      "f_convert_f('3.1415')->3.1415\n",
      "f_convert_f('string')->None\n",
      "f_convert_f(3,6,7)->None\n"
     ]
    }
   ],
   "source": [
    "def f_convert_f(x):\n",
    "    try:\n",
    "        return float(x)\n",
    "    except (ValueError,TypeError) as e:\n",
    "        pass\n",
    "print(\"f_convert_f('3.1415')->{}\".format(f_convert_f('3.1415')))    \n",
    "print(\"f_convert_f('string')->{}\".format(f_convert_f('string')))  \n",
    "print(\"f_convert_f(3,6,7)->{}\".format(f_convert_f((3,6,7))))     \n"
   ]
  },
  {
   "cell_type": "code",
   "execution_count": 110,
   "id": "f13c60bd-b701-4a4d-ac9c-d21c5ee7225f",
   "metadata": {},
   "outputs": [
    {
     "name": "stdout",
     "output_type": "stream",
     "text": [
      "Unable to open ./data/tryException.txt :[Errno 2] No such file or directory: './data/tryException.txt'\n",
      "\n",
      "尝试目录t->None\n",
      "Unable to open ./data/tryException_.txt :[Errno 2] No such file or directory: './data/tryException_.txt'\n",
      "\n"
     ]
    }
   ],
   "source": [
    "def f_open_a(fp):\n",
    "    try:\n",
    "        f=open(fp,'r')\n",
    "    except IOError as e:\n",
    "        print('Unable to open',fp,':%s\\n' %e)\n",
    "    else:\n",
    "        data=f.read()\n",
    "        f.close\n",
    "        return data\n",
    "tryException_content=f_open_a(\"./data/tryException.txt\")   \n",
    "print(\"尝试目录t->{}\".format(tryException_content))\n",
    "f_open_a(\"./data/tryException_.txt\")\n"
   ]
  },
  {
   "cell_type": "code",
   "execution_count": 109,
   "id": "9eec2062-7d42-47cb-a749-b1808b5ea745",
   "metadata": {},
   "outputs": [
    {
     "name": "stdout",
     "output_type": "stream",
     "text": [
      "不能打开 ./data/tryException.txt :[Errno 2] No such file or directory: './data/tryException.txt'\n",
      "\n",
      "done!\n"
     ]
    }
   ],
   "source": [
    "def f_open_b(fp):\n",
    "    try:\n",
    "        f=open(fp,'r')\n",
    "    except IOError as e:\n",
    "        print('不能打开',fp,':%s\\n' %e)\n",
    "    else:\n",
    "        data=f.read()\n",
    "        f.close()\n",
    "        return data\n",
    "    finally:\n",
    "        print('done!')\n",
    "f_open_b(\"./data/tryException.txt\")        \n"
   ]
  },
  {
   "cell_type": "code",
   "execution_count": null,
   "id": "ccdc54bb-b62a-4ca1-a6e2-23bc6f77a592",
   "metadata": {},
   "outputs": [],
   "source": []
  }
 ],
 "metadata": {
  "kernelspec": {
   "display_name": "Python 3",
   "language": "python",
   "name": "python3"
  },
  "language_info": {
   "codemirror_mode": {
    "name": "ipython",
    "version": 3
   },
   "file_extension": ".py",
   "mimetype": "text/x-python",
   "name": "python",
   "nbconvert_exporter": "python",
   "pygments_lexer": "ipython3",
   "version": "3.8.8"
  }
 },
 "nbformat": 4,
 "nbformat_minor": 5
}
